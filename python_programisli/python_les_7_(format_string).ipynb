{
 "cells": [
  {
   "cell_type": "code",
   "execution_count": 1,
   "id": "68f1bfff",
   "metadata": {},
   "outputs": [
    {
     "name": "stdout",
     "output_type": "stream",
     "text": [
      "My name is Dmitry\n"
     ]
    }
   ],
   "source": [
    "print (\"My name is {}\".format(\"Dmitry\"))"
   ]
  },
  {
   "cell_type": "code",
   "execution_count": 2,
   "id": "b2b78673",
   "metadata": {},
   "outputs": [
    {
     "name": "stdout",
     "output_type": "stream",
     "text": [
      "My name is Elias\n"
     ]
    }
   ],
   "source": [
    "print (\"My name is {}\".format(\"Elias\"))"
   ]
  },
  {
   "cell_type": "code",
   "execution_count": 3,
   "id": "e09146e6",
   "metadata": {},
   "outputs": [
    {
     "name": "stdout",
     "output_type": "stream",
     "text": [
      "My name is Dima\n"
     ]
    }
   ],
   "source": [
    "my_name=\"Dima\"\n",
    "print (\"My name is {}\".format(my_name))"
   ]
  },
  {
   "cell_type": "code",
   "execution_count": 6,
   "id": "0f35c6ea",
   "metadata": {},
   "outputs": [
    {
     "name": "stdout",
     "output_type": "stream",
     "text": [
      "My name is Elias and I'm 30\n"
     ]
    }
   ],
   "source": [
    "print (\"My name is {} and I'm {}\".format(\"Elias\",\"30\"))"
   ]
  },
  {
   "cell_type": "code",
   "execution_count": 9,
   "id": "4e02b0ed",
   "metadata": {},
   "outputs": [
    {
     "name": "stdout",
     "output_type": "stream",
     "text": [
      "My name is Elias and I'm 30\n"
     ]
    }
   ],
   "source": [
    "print (\"My name is {1} and I'm {0}\".format(\"30\",\"Elias\"))"
   ]
  },
  {
   "cell_type": "code",
   "execution_count": 12,
   "id": "77a38a44",
   "metadata": {},
   "outputs": [
    {
     "data": {
      "text/plain": [
       "3.1415"
      ]
     },
     "execution_count": 12,
     "metadata": {},
     "output_type": "execute_result"
    }
   ],
   "source": [
    "pi = 3.1415\n",
    "pi\n"
   ]
  },
  {
   "cell_type": "code",
   "execution_count": 16,
   "id": "6d7f4bd3",
   "metadata": {},
   "outputs": [
    {
     "name": "stdout",
     "output_type": "stream",
     "text": [
      "Pi equals 3.142\n"
     ]
    }
   ],
   "source": [
    "pi = 3.1415\n",
    "print(\"Pi equals {d:1.3f}\".format (d=pi))"
   ]
  },
  {
   "cell_type": "code",
   "execution_count": 18,
   "id": "964fb718",
   "metadata": {},
   "outputs": [
    {
     "name": "stdout",
     "output_type": "stream",
     "text": [
      "Pi equals      3.142\n"
     ]
    }
   ],
   "source": [
    "pi = 3.1415\n",
    "print(\"Pi equals {d:10.3f}\".format (d=pi))"
   ]
  },
  {
   "cell_type": "code",
   "execution_count": 22,
   "id": "40128cf4",
   "metadata": {},
   "outputs": [
    {
     "name": "stdout",
     "output_type": "stream",
     "text": [
      "My name is Elias and I'm 30\n"
     ]
    }
   ],
   "source": [
    "name = \"Elias\"\n",
    "age = 30\n",
    "print(f\"My name is {name} and I'm {age}\")"
   ]
  },
  {
   "cell_type": "code",
   "execution_count": 24,
   "id": "cd3b23be",
   "metadata": {},
   "outputs": [
    {
     "name": "stdout",
     "output_type": "stream",
     "text": [
      "Pi equals 3.14\n"
     ]
    }
   ],
   "source": [
    "pi = 3.1415\n",
    "\n",
    "print(f\"Pi equals {pi:1.2f}\")"
   ]
  },
  {
   "cell_type": "code",
   "execution_count": null,
   "id": "509490ee",
   "metadata": {},
   "outputs": [],
   "source": []
  }
 ],
 "metadata": {
  "kernelspec": {
   "display_name": "Python 3 (ipykernel)",
   "language": "python",
   "name": "python3"
  },
  "language_info": {
   "codemirror_mode": {
    "name": "ipython",
    "version": 3
   },
   "file_extension": ".py",
   "mimetype": "text/x-python",
   "name": "python",
   "nbconvert_exporter": "python",
   "pygments_lexer": "ipython3",
   "version": "3.11.5"
  }
 },
 "nbformat": 4,
 "nbformat_minor": 5
}
