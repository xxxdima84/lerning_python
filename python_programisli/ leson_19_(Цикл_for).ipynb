{
 "cells": [
  {
   "cell_type": "code",
   "execution_count": 1,
   "id": "29ca0620",
   "metadata": {},
   "outputs": [],
   "source": [
    "#Цикл for list set для любых итерируемых объектов списки строки кортеж словарь"
   ]
  },
  {
   "cell_type": "code",
   "execution_count": 2,
   "id": "654a787e",
   "metadata": {},
   "outputs": [
    {
     "name": "stdout",
     "output_type": "stream",
     "text": [
      "[1, 2, 3, 4, 5]\n"
     ]
    }
   ],
   "source": [
    "#list\n",
    "numbers = [1,2,3,4,5]\n",
    "print (numbers)"
   ]
  },
  {
   "cell_type": "code",
   "execution_count": 3,
   "id": "1c271cec",
   "metadata": {},
   "outputs": [
    {
     "name": "stdout",
     "output_type": "stream",
     "text": [
      "1\n",
      "2\n",
      "3\n",
      "4\n",
      "5\n"
     ]
    }
   ],
   "source": [
    "#for list\n",
    "numbers = [1,2,3,4,5]\n",
    "for i in numbers:\n",
    "    print(i)"
   ]
  },
  {
   "cell_type": "code",
   "execution_count": 9,
   "id": "05016618",
   "metadata": {},
   "outputs": [
    {
     "name": "stdout",
     "output_type": "stream",
     "text": [
      "1\n",
      "4\n",
      "9\n",
      "16\n",
      "25\n",
      "36\n",
      "49\n",
      "64\n",
      "81\n"
     ]
    }
   ],
   "source": [
    "# Выводим квадраты чисел numbers\n",
    "\n",
    "numbers = [1,2,3,4,5,6,7,8,9]\n",
    "for i in numbers:\n",
    "    print (i**2)"
   ]
  },
  {
   "cell_type": "code",
   "execution_count": 14,
   "id": "49b38274",
   "metadata": {},
   "outputs": [
    {
     "name": "stdout",
     "output_type": "stream",
     "text": [
      "<class 'range'>\n",
      "range(1, 6)\n"
     ]
    }
   ],
   "source": [
    "#берем диапазоны\n",
    "numbers = range (1,6)\n",
    "print(type(numbers))\n",
    "print(numbers)"
   ]
  },
  {
   "cell_type": "code",
   "execution_count": 15,
   "id": "584cec0b",
   "metadata": {},
   "outputs": [
    {
     "name": "stdout",
     "output_type": "stream",
     "text": [
      "1\n",
      "2\n",
      "3\n",
      "4\n",
      "5\n"
     ]
    }
   ],
   "source": [
    "# range это итерируемый тип по которому могу пройтись циклом for\n",
    "for i in numbers:\n",
    "    print (i)"
   ]
  },
  {
   "cell_type": "code",
   "execution_count": 22,
   "id": "715db582",
   "metadata": {},
   "outputs": [
    {
     "name": "stdout",
     "output_type": "stream",
     "text": [
      "1 это не четное число\n",
      "2 это четное число\n",
      "3 это не четное число\n",
      "4 это четное число\n",
      "5 это не четное число\n"
     ]
    }
   ],
   "source": [
    "# for с применением if else\n",
    "for s in range(1,6):\n",
    "    if s % 2 == 0:\n",
    "        print (f'{s} это четное число')\n",
    "    else:\n",
    "        print (f'{s} это не четное число')\n",
    "    "
   ]
  },
  {
   "cell_type": "code",
   "execution_count": 26,
   "id": "4d8b848b",
   "metadata": {},
   "outputs": [
    {
     "name": "stdout",
     "output_type": "stream",
     "text": [
      "[2, 6, 10, 14, 18]\n"
     ]
    }
   ],
   "source": [
    "# изменить список записав квадраты через индекс\n",
    "\n",
    "numbers = [1,3,5,7,9]\n",
    "for tek, index_tek in enumerate(numbers):\n",
    "    numbers[tek] = numbers[tek] * 2 \n",
    "print (numbers)"
   ]
  },
  {
   "cell_type": "code",
   "execution_count": 27,
   "id": "63c38332",
   "metadata": {},
   "outputs": [
    {
     "name": "stdout",
     "output_type": "stream",
     "text": [
      "J\n",
      "o\n",
      "n\n",
      "h\n"
     ]
    }
   ],
   "source": [
    "name = 'Jonh'\n",
    "for l in name:\n",
    "    print (l)"
   ]
  },
  {
   "cell_type": "code",
   "execution_count": 30,
   "id": "dc65c1af",
   "metadata": {},
   "outputs": [
    {
     "name": "stdout",
     "output_type": "stream",
     "text": [
      "Alarm!\n",
      "Alarm!\n",
      "Alarm!\n",
      "Alarm!\n",
      "Alarm!\n"
     ]
    }
   ],
   "source": [
    "# если не хотим вводить именнованную переменную  можно воспользоваться символом _\n",
    "for _ in range(5):\n",
    "    print ('Alarm!')"
   ]
  },
  {
   "cell_type": "code",
   "execution_count": 31,
   "id": "44d8783a",
   "metadata": {},
   "outputs": [
    {
     "name": "stdout",
     "output_type": "stream",
     "text": [
      "jonh\n",
      "Silver\n",
      "22\n"
     ]
    }
   ],
   "source": [
    "person = ('jonh', 'Silver', 22)\n",
    "for i in person:\n",
    "    print(i)"
   ]
  },
  {
   "cell_type": "code",
   "execution_count": 34,
   "id": "1c01b879",
   "metadata": {},
   "outputs": [
    {
     "data": {
      "text/plain": [
       "3"
      ]
     },
     "execution_count": 34,
     "metadata": {},
     "output_type": "execute_result"
    }
   ],
   "source": [
    "# список кортежей\n",
    "person = [('jonh', 22), ('Bob', 32), ('Dave', '20')]\n",
    "len (person)\n"
   ]
  },
  {
   "cell_type": "code",
   "execution_count": 36,
   "id": "54d2559c",
   "metadata": {},
   "outputs": [
    {
     "name": "stdout",
     "output_type": "stream",
     "text": [
      "jonh is 22 years old\n",
      "Bob is 32 years old\n",
      "Dave is 20 years old\n"
     ]
    }
   ],
   "source": [
    "#tuple unpaking распаковка кортежа\n",
    "persons = [('jonh', 22), ('Bob', 32), ('Dave', '20')]\n",
    "for (name, age) in persons:\n",
    "    print (f'{name} is {age} years old')"
   ]
  },
  {
   "cell_type": "code",
   "execution_count": 38,
   "id": "92af1b27",
   "metadata": {},
   "outputs": [
    {
     "name": "stdout",
     "output_type": "stream",
     "text": [
      "Carlsen\n",
      "Caruana\n",
      "Mamediarov\n"
     ]
    }
   ],
   "source": [
    "players = dict(Carlsen=2842, Caruana=2822, Mamediarov = 2801)\n",
    "for e in players:\n",
    "    print(e)"
   ]
  },
  {
   "cell_type": "code",
   "execution_count": 47,
   "id": "aa2b163e",
   "metadata": {},
   "outputs": [
    {
     "name": "stdout",
     "output_type": "stream",
     "text": [
      "('Carlsen', 2842)\n",
      "('Caruana', 2822)\n",
      "('Mamediarov', 2801)\n"
     ]
    }
   ],
   "source": [
    "# получить набор кортежей\n",
    "players = dict(Carlsen=2842, Caruana=2822, Mamediarov = 2801)\n",
    "for perem in players.items():\n",
    "    print (perem)"
   ]
  },
  {
   "cell_type": "code",
   "execution_count": 50,
   "id": "e686b9ca",
   "metadata": {},
   "outputs": [
    {
     "name": "stdout",
     "output_type": "stream",
     "text": [
      "Carlsen имеет реойтинг 2842\n",
      "Caruana имеет реойтинг 2822\n",
      "Mamediarov имеет реойтинг 2801\n"
     ]
    }
   ],
   "source": [
    "players = dict(Carlsen=2842, Caruana=2822, Mamediarov = 2801)\n",
    "for k, v in players.items():\n",
    "    print(f'{k} имеет реойтинг {v}')"
   ]
  },
  {
   "cell_type": "code",
   "execution_count": 51,
   "id": "1fe3b677",
   "metadata": {},
   "outputs": [
    {
     "name": "stdout",
     "output_type": "stream",
     "text": [
      "2842\n",
      "2822\n",
      "2801\n"
     ]
    }
   ],
   "source": [
    "# проход просто позначениям\n",
    "for v in players.values():\n",
    "    print(v)"
   ]
  },
  {
   "cell_type": "code",
   "execution_count": 55,
   "id": "82d13744",
   "metadata": {},
   "outputs": [
    {
     "name": "stdout",
     "output_type": "stream",
     "text": [
      "[(2, -2), (-5, 5), (6, -6), (-2, 2)]\n"
     ]
    }
   ],
   "source": [
    "# поиск всех пар сумм которые дают 0 - пример вложенного условия\n",
    "list1 = [2,4,-5,6,8,-2]\n",
    "list2 = [2,-6,8,3,5,-2]\n",
    "\n",
    "# создаем пустой список пары\n",
    "\n",
    "pairs = []\n",
    "# создаем первый список для прохода по внешнему циклу\n",
    "for x in list1:\n",
    "    for y in list2: # создаем второй список для прохода по внутреннему циклу\n",
    "        cur_sum = x + y # смотрим на текущую сумму\n",
    "        if cur_sum == 0:\n",
    "            pairs.append((x,y)) # добавляем текущую пару в качестве кортежа \n",
    "print(pairs)\n",
    "        \n"
   ]
  },
  {
   "cell_type": "code",
   "execution_count": null,
   "id": "ce714835",
   "metadata": {},
   "outputs": [],
   "source": []
  }
 ],
 "metadata": {
  "kernelspec": {
   "display_name": "Python 3 (ipykernel)",
   "language": "python",
   "name": "python3"
  },
  "language_info": {
   "codemirror_mode": {
    "name": "ipython",
    "version": 3
   },
   "file_extension": ".py",
   "mimetype": "text/x-python",
   "name": "python",
   "nbconvert_exporter": "python",
   "pygments_lexer": "ipython3",
   "version": "3.11.5"
  }
 },
 "nbformat": 4,
 "nbformat_minor": 5
}
