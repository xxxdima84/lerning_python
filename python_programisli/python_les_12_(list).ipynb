{
 "cells": [
  {
   "cell_type": "code",
   "execution_count": 1,
   "id": "047b4195",
   "metadata": {},
   "outputs": [],
   "source": [
    "int_list = [1,2,3]"
   ]
  },
  {
   "cell_type": "code",
   "execution_count": 2,
   "id": "adf69123",
   "metadata": {},
   "outputs": [],
   "source": [
    "mixed_list = [1, 2.0, 'string']"
   ]
  },
  {
   "cell_type": "code",
   "execution_count": 4,
   "id": "22dcc60c",
   "metadata": {},
   "outputs": [
    {
     "data": {
      "text/plain": [
       "3"
      ]
     },
     "execution_count": 4,
     "metadata": {},
     "output_type": "execute_result"
    }
   ],
   "source": [
    "len(int_list)"
   ]
  },
  {
   "cell_type": "code",
   "execution_count": 10,
   "id": "4d879cf5",
   "metadata": {},
   "outputs": [
    {
     "name": "stdout",
     "output_type": "stream",
     "text": [
      "1\n",
      "3\n"
     ]
    }
   ],
   "source": [
    "print(int_list[0])\n",
    "print(int_list[-1])"
   ]
  },
  {
   "cell_type": "code",
   "execution_count": 11,
   "id": "bdd09dfd",
   "metadata": {},
   "outputs": [
    {
     "data": {
      "text/plain": [
       "[2, 3]"
      ]
     },
     "execution_count": 11,
     "metadata": {},
     "output_type": "execute_result"
    }
   ],
   "source": [
    "int_list[1:]"
   ]
  },
  {
   "cell_type": "code",
   "execution_count": 16,
   "id": "c8e1ee23",
   "metadata": {},
   "outputs": [
    {
     "name": "stdout",
     "output_type": "stream",
     "text": [
      "['jonh', 'Bob', 'Alice', 'Tracy', 'Elijah', 'Mason']\n"
     ]
    }
   ],
   "source": [
    "names1 = ['jonh', 'Bob', 'Alice']\n",
    "names2 = ['Tracy', 'Elijah', 'Mason']\n",
    "names_combined = names1 + names2\n",
    "print(names_combined)"
   ]
  },
  {
   "cell_type": "code",
   "execution_count": 17,
   "id": "ef1523fd",
   "metadata": {},
   "outputs": [
    {
     "data": {
      "text/plain": [
       "list"
      ]
     },
     "execution_count": 17,
     "metadata": {},
     "output_type": "execute_result"
    }
   ],
   "source": [
    "type(names_combined)"
   ]
  },
  {
   "cell_type": "code",
   "execution_count": 20,
   "id": "b096c30f",
   "metadata": {},
   "outputs": [
    {
     "name": "stdout",
     "output_type": "stream",
     "text": [
      "['liam', 'Bob', 'Alice']\n"
     ]
    }
   ],
   "source": [
    "names1 [0] = 'liam'\n",
    "print (names1)"
   ]
  },
  {
   "cell_type": "code",
   "execution_count": 21,
   "id": "258a3ec6",
   "metadata": {},
   "outputs": [
    {
     "name": "stdout",
     "output_type": "stream",
     "text": [
      "['liam', 'Bob', 'Alice', 'William', 'James']\n"
     ]
    }
   ],
   "source": [
    "names1.append('William')\n",
    "names1.append('James')\n",
    "print (names1)"
   ]
  },
  {
   "cell_type": "code",
   "execution_count": 22,
   "id": "e6f4fbcf",
   "metadata": {},
   "outputs": [
    {
     "name": "stdout",
     "output_type": "stream",
     "text": [
      "James\n",
      "['liam', 'Bob', 'Alice', 'William']\n"
     ]
    }
   ],
   "source": [
    "popped = names1.pop()\n",
    "print(popped)\n",
    "print(names1)"
   ]
  },
  {
   "cell_type": "code",
   "execution_count": 23,
   "id": "1175a36a",
   "metadata": {},
   "outputs": [
    {
     "data": {
      "text/plain": [
       "['Bob', 'Alice', 'William']"
      ]
     },
     "execution_count": 23,
     "metadata": {},
     "output_type": "execute_result"
    }
   ],
   "source": [
    "names1.pop(0)\n",
    "names1"
   ]
  },
  {
   "cell_type": "code",
   "execution_count": 24,
   "id": "95c3f62a",
   "metadata": {},
   "outputs": [
    {
     "name": "stdout",
     "output_type": "stream",
     "text": [
      "['Alice', 'Bob', 'James', 'William']\n"
     ]
    }
   ],
   "source": [
    "names1.append('James')\n",
    "names1.sort()\n",
    "print(names1)"
   ]
  },
  {
   "cell_type": "code",
   "execution_count": 28,
   "id": "a8c24af9",
   "metadata": {},
   "outputs": [
    {
     "name": "stdout",
     "output_type": "stream",
     "text": [
      "['aa', 'ab', 'ac']\n"
     ]
    }
   ],
   "source": [
    "letters1 = ['ac', 'ab','aa']\n",
    "letters.sort()\n",
    "print (letters)"
   ]
  },
  {
   "cell_type": "code",
   "execution_count": 29,
   "id": "38f9621d",
   "metadata": {},
   "outputs": [
    {
     "name": "stdout",
     "output_type": "stream",
     "text": [
      "['aa', 'ab', 'ac']\n"
     ]
    }
   ],
   "source": [
    "letters1 = ['abc', 'a','ab']\n",
    "letters.sort(key=len)\n",
    "print (letters)"
   ]
  },
  {
   "cell_type": "code",
   "execution_count": 31,
   "id": "196a6b6e",
   "metadata": {},
   "outputs": [
    {
     "name": "stdout",
     "output_type": "stream",
     "text": [
      "[3, 2, 8, 5, 0, 3, 4, 1, 1]\n",
      "[0, 1, 1, 2, 3, 3, 4, 5, 8]\n"
     ]
    }
   ],
   "source": [
    "numbers = [3, 2, 8, 5, 0, 3, 4, 1, 1]\n",
    "print (numbers)\n",
    "numbers.sort ()\n",
    "print (numbers)"
   ]
  },
  {
   "cell_type": "code",
   "execution_count": 32,
   "id": "d1536dce",
   "metadata": {},
   "outputs": [
    {
     "name": "stdout",
     "output_type": "stream",
     "text": [
      "[3, 2, 8, 5, 0, 3, 4, 1, 1]\n",
      "[1, 1, 4, 3, 0, 5, 8, 2, 3]\n"
     ]
    }
   ],
   "source": [
    "numbers = [3, 2, 8, 5, 0, 3, 4, 1, 1]\n",
    "print (numbers)\n",
    "numbers.reverse()\n",
    "print (numbers)"
   ]
  },
  {
   "cell_type": "code",
   "execution_count": 33,
   "id": "b8e5c659",
   "metadata": {},
   "outputs": [
    {
     "name": "stdout",
     "output_type": "stream",
     "text": [
      "[3, 2, 8, 5, 0, 3, 4, 1, 1]\n",
      "[8, 5, 4, 3, 3, 2, 1, 1, 0]\n"
     ]
    }
   ],
   "source": [
    "numbers = [3, 2, 8, 5, 0, 3, 4, 1, 1]\n",
    "print (numbers)\n",
    "numbers.sort(reverse = True)\n",
    "print (numbers)"
   ]
  },
  {
   "cell_type": "code",
   "execution_count": 34,
   "id": "5f4f3c53",
   "metadata": {},
   "outputs": [
    {
     "name": "stdout",
     "output_type": "stream",
     "text": [
      "[3, 2, 8, 5, 0, 3, 4, 1, 1]\n",
      "[3, 22, 2, 8, 5, 0, 3, 4, 1, 1]\n"
     ]
    }
   ],
   "source": [
    "numbers = [3, 2, 8, 5, 0, 3, 4, 1, 1]\n",
    "print (numbers)\n",
    "numbers.insert(1,22)\n",
    "print (numbers)"
   ]
  },
  {
   "cell_type": "code",
   "execution_count": 42,
   "id": "d8a1f588",
   "metadata": {},
   "outputs": [
    {
     "name": "stdout",
     "output_type": "stream",
     "text": [
      "[3, 2, 8, 5, 0, 3, 4, 1, 1]\n",
      "2\n"
     ]
    }
   ],
   "source": [
    "numbers = [3, 2, 8, 5, 0, 3, 4, 1, 1]\n",
    "print (numbers)\n",
    "print (numbers.index(8))\n"
   ]
  },
  {
   "cell_type": "code",
   "execution_count": 44,
   "id": "8cd65c1c",
   "metadata": {},
   "outputs": [],
   "source": [
    "#print (numbers.index(56))"
   ]
  },
  {
   "cell_type": "code",
   "execution_count": 45,
   "id": "38513b66",
   "metadata": {},
   "outputs": [
    {
     "name": "stdout",
     "output_type": "stream",
     "text": [
      "2\n"
     ]
    }
   ],
   "source": [
    "print (numbers.count(1))"
   ]
  },
  {
   "cell_type": "code",
   "execution_count": 46,
   "id": "a5333eec",
   "metadata": {},
   "outputs": [
    {
     "name": "stdout",
     "output_type": "stream",
     "text": [
      "[3, 2, 8, 5, 0, 3, 4, 1, 1]\n"
     ]
    }
   ],
   "source": [
    "copy =numbers.copy()\n",
    "print (numbers)"
   ]
  },
  {
   "cell_type": "code",
   "execution_count": 48,
   "id": "5f1fc1db",
   "metadata": {},
   "outputs": [
    {
     "name": "stdout",
     "output_type": "stream",
     "text": [
      "[]\n"
     ]
    }
   ],
   "source": [
    "numbers = [3, 2, 8, 5, 0, 3, 4, 1, 1]\n",
    "numbers.clear()\n",
    "print (numbers)"
   ]
  },
  {
   "cell_type": "code",
   "execution_count": null,
   "id": "49f76545",
   "metadata": {},
   "outputs": [],
   "source": []
  }
 ],
 "metadata": {
  "kernelspec": {
   "display_name": "Python 3 (ipykernel)",
   "language": "python",
   "name": "python3"
  },
  "language_info": {
   "codemirror_mode": {
    "name": "ipython",
    "version": 3
   },
   "file_extension": ".py",
   "mimetype": "text/x-python",
   "name": "python",
   "nbconvert_exporter": "python",
   "pygments_lexer": "ipython3",
   "version": "3.11.5"
  }
 },
 "nbformat": 4,
 "nbformat_minor": 5
}
