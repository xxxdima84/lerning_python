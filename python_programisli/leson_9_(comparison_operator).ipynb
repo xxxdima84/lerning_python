{
 "cells": [
  {
   "cell_type": "code",
   "execution_count": 2,
   "id": "9030a1dc",
   "metadata": {},
   "outputs": [
    {
     "data": {
      "text/plain": [
       "True"
      ]
     },
     "execution_count": 2,
     "metadata": {},
     "output_type": "execute_result"
    }
   ],
   "source": [
    "2 < 4"
   ]
  },
  {
   "cell_type": "code",
   "execution_count": 5,
   "id": "2bcbdf5c",
   "metadata": {},
   "outputs": [
    {
     "data": {
      "text/plain": [
       "bool"
      ]
     },
     "execution_count": 5,
     "metadata": {},
     "output_type": "execute_result"
    }
   ],
   "source": [
    "resault = \"dima\" < \"Dima\"\n",
    "type(resault)"
   ]
  },
  {
   "cell_type": "code",
   "execution_count": 6,
   "id": "70cf1f8c",
   "metadata": {},
   "outputs": [
    {
     "name": "stdout",
     "output_type": "stream",
     "text": [
      "False\n",
      "True\n",
      "True\n"
     ]
    }
   ],
   "source": [
    "print(2 > 2)\n",
    "print(2 >= 2)\n",
    "print (3 >= 2)"
   ]
  },
  {
   "cell_type": "code",
   "execution_count": 7,
   "id": "6fd475d0",
   "metadata": {},
   "outputs": [
    {
     "data": {
      "text/plain": [
       "True"
      ]
     },
     "execution_count": 7,
     "metadata": {},
     "output_type": "execute_result"
    }
   ],
   "source": [
    "1 == 1"
   ]
  },
  {
   "cell_type": "code",
   "execution_count": 8,
   "id": "888fe791",
   "metadata": {},
   "outputs": [
    {
     "data": {
      "text/plain": [
       "False"
      ]
     },
     "execution_count": 8,
     "metadata": {},
     "output_type": "execute_result"
    }
   ],
   "source": [
    "1!=1"
   ]
  },
  {
   "cell_type": "code",
   "execution_count": 13,
   "id": "27bbe8e3",
   "metadata": {},
   "outputs": [
    {
     "data": {
      "text/plain": [
       "(True, False)"
      ]
     },
     "execution_count": 13,
     "metadata": {},
     "output_type": "execute_result"
    }
   ],
   "source": [
    "\"string1\" == \"string1\", \"string2\" == \"String2\"\n"
   ]
  },
  {
   "cell_type": "code",
   "execution_count": 14,
   "id": "0b738999",
   "metadata": {},
   "outputs": [
    {
     "name": "stdout",
     "output_type": "stream",
     "text": [
      "True\n"
     ]
    }
   ],
   "source": [
    "x = \"String2\"\n",
    "y = \"string2\"\n",
    "print (x.lower() == y.lower())"
   ]
  },
  {
   "cell_type": "code",
   "execution_count": 17,
   "id": "1c390c02",
   "metadata": {},
   "outputs": [
    {
     "name": "stdout",
     "output_type": "stream",
     "text": [
      "True\n"
     ]
    }
   ],
   "source": [
    "x = \"String2\"\n",
    "y = \"string2\"\n",
    "print (x.upper() == y.upper())"
   ]
  },
  {
   "cell_type": "code",
   "execution_count": 18,
   "id": "707a1c6b",
   "metadata": {},
   "outputs": [
    {
     "data": {
      "text/plain": [
       "True"
      ]
     },
     "execution_count": 18,
     "metadata": {},
     "output_type": "execute_result"
    }
   ],
   "source": [
    "1 < 2 < 3 "
   ]
  },
  {
   "cell_type": "code",
   "execution_count": 19,
   "id": "b19933f4",
   "metadata": {},
   "outputs": [
    {
     "data": {
      "text/plain": [
       "True"
      ]
     },
     "execution_count": 19,
     "metadata": {},
     "output_type": "execute_result"
    }
   ],
   "source": [
    "1 < 2 and 2 < 3"
   ]
  },
  {
   "cell_type": "code",
   "execution_count": 22,
   "id": "4caebf01",
   "metadata": {},
   "outputs": [
    {
     "data": {
      "text/plain": [
       "False"
      ]
     },
     "execution_count": 22,
     "metadata": {},
     "output_type": "execute_result"
    }
   ],
   "source": [
    "2 > 2 and 2 > 3"
   ]
  },
  {
   "cell_type": "code",
   "execution_count": 23,
   "id": "218f0051",
   "metadata": {},
   "outputs": [
    {
     "data": {
      "text/plain": [
       "True"
      ]
     },
     "execution_count": 23,
     "metadata": {},
     "output_type": "execute_result"
    }
   ],
   "source": [
    "2 > 1 or 2 > 3"
   ]
  },
  {
   "cell_type": "code",
   "execution_count": 27,
   "id": "f8bb6ed8",
   "metadata": {},
   "outputs": [
    {
     "name": "stdout",
     "output_type": "stream",
     "text": [
      "True\n"
     ]
    }
   ],
   "source": [
    "is_admin = True\n",
    "file_exist = True\n",
    "\n",
    "open_file = is_admin and file_exist\n",
    "print (open_file)"
   ]
  },
  {
   "cell_type": "code",
   "execution_count": 31,
   "id": "f71b97f8",
   "metadata": {},
   "outputs": [
    {
     "name": "stdout",
     "output_type": "stream",
     "text": [
      "is_admin\n"
     ]
    }
   ],
   "source": [
    "is_admin = True\n",
    "\n",
    "if not is_admin:\n",
    "    print('not an admin')\n",
    "if is_admin == False:\n",
    "    print('not an admin')\n",
    "\n",
    "if is_admin == True:\n",
    "    print('is_admin')"
   ]
  },
  {
   "cell_type": "code",
   "execution_count": null,
   "id": "af965190",
   "metadata": {},
   "outputs": [],
   "source": []
  }
 ],
 "metadata": {
  "kernelspec": {
   "display_name": "Python 3 (ipykernel)",
   "language": "python",
   "name": "python3"
  },
  "language_info": {
   "codemirror_mode": {
    "name": "ipython",
    "version": 3
   },
   "file_extension": ".py",
   "mimetype": "text/x-python",
   "name": "python",
   "nbconvert_exporter": "python",
   "pygments_lexer": "ipython3",
   "version": "3.11.5"
  }
 },
 "nbformat": 4,
 "nbformat_minor": 5
}
