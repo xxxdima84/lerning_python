{
 "cells": [
  {
   "cell_type": "code",
   "execution_count": 1,
   "id": "b7021459",
   "metadata": {},
   "outputs": [],
   "source": [
    "#def binary_serch (list, item):\n",
    "#    low = 0///\n",
    "#   high = len(list)-1\n",
    "    \n",
    "#   while low <= hight:\n",
    "#       mid = (low + high)\n",
    "#       guess = list[mid]\n",
    "#       if guess == item:\n",
    "#           return mid\n",
    "#       if guess > item:\n",
    "#           high = mid - 1\n",
    "#       else:\n",
    "#           low = mid + 1\n",
    "#       return None\n",
    "#my_list = [1,2,3,4,5,6,9]\n",
    "\n",
    "#print binary_serch (my_list, 3)"
   ]
  },
  {
   "cell_type": "code",
   "execution_count": 2,
   "id": "b57bfa51",
   "metadata": {},
   "outputs": [
    {
     "data": {
      "text/plain": [
       "'C:\\\\Users\\\\dima\\\\Documents\\\\Python Scripts'"
      ]
     },
     "execution_count": 2,
     "metadata": {},
     "output_type": "execute_result"
    }
   ],
   "source": [
    "pwd"
   ]
  },
  {
   "cell_type": "code",
   "execution_count": 3,
   "id": "7ec7b54e",
   "metadata": {},
   "outputs": [
    {
     "name": "stdout",
     "output_type": "stream",
     "text": [
      "Overwriting sample.txt\n"
     ]
    }
   ],
   "source": [
    "%%writefile sample.txt\n",
    "Name|Phone\n",
    "jonh;1234\n",
    "Bob;5678\n",
    "Alice;9432"
   ]
  },
  {
   "cell_type": "code",
   "execution_count": 4,
   "id": "964340fd",
   "metadata": {},
   "outputs": [
    {
     "data": {
      "text/plain": [
       "<_io.TextIOWrapper name='sample.txt' mode='r' encoding='cp1251'>"
      ]
     },
     "execution_count": 4,
     "metadata": {},
     "output_type": "execute_result"
    }
   ],
   "source": [
    "file = open('sample.txt') \n",
    "file"
   ]
  },
  {
   "cell_type": "code",
   "execution_count": 5,
   "id": "c76366bf",
   "metadata": {},
   "outputs": [
    {
     "name": "stdout",
     "output_type": "stream",
     "text": [
      "Name|Phone\n",
      "jonh;1234\n",
      "Bob;5678\n",
      "Alice;9432\n",
      "\n"
     ]
    }
   ],
   "source": [
    "data = file.read()\n",
    "print(data)"
   ]
  },
  {
   "cell_type": "code",
   "execution_count": 6,
   "id": "2ada9534",
   "metadata": {},
   "outputs": [
    {
     "name": "stdout",
     "output_type": "stream",
     "text": [
      "\n"
     ]
    }
   ],
   "source": [
    "data = file.read() # при первичном прочтении курсор перемещается по индесу и повторное чиение ничего не выводит нужно возврщать курсор\n",
    "print(data)"
   ]
  },
  {
   "cell_type": "code",
   "execution_count": 7,
   "id": "2d2854b6",
   "metadata": {},
   "outputs": [
    {
     "name": "stdout",
     "output_type": "stream",
     "text": [
      "Name|Phone\n",
      "jonh;1234\n",
      "Bob;5678\n",
      "Alice;9432\n",
      "\n"
     ]
    }
   ],
   "source": [
    "file.seek(0)  # возврат на индекс 0\n",
    "data = file.read()\n",
    "print(data)"
   ]
  },
  {
   "cell_type": "code",
   "execution_count": 8,
   "id": "6037696c",
   "metadata": {
    "scrolled": false
   },
   "outputs": [
    {
     "name": "stdout",
     "output_type": "stream",
     "text": [
      "Name|Phone\n",
      "jonh;1234\n",
      "Bob;5678\n",
      "Alice;9432\n",
      "\n"
     ]
    },
    {
     "data": {
      "text/plain": [
       "str"
      ]
     },
     "execution_count": 8,
     "metadata": {},
     "output_type": "execute_result"
    }
   ],
   "source": [
    "file.seek(0)  # возврат на индекс 0\n",
    "data = file.read()\n",
    "print(data)\n",
    "type(data)"
   ]
  },
  {
   "cell_type": "code",
   "execution_count": 9,
   "id": "0a66b480",
   "metadata": {},
   "outputs": [
    {
     "name": "stdout",
     "output_type": "stream",
     "text": [
      "<class 'list'>\n",
      "['Name|Phone\\n', 'jonh;1234\\n', 'Bob;5678\\n', 'Alice;9432\\n']\n"
     ]
    }
   ],
   "source": [
    "file.seek(0)\n",
    "lines = file.readlines()\n",
    "print(type(lines))\n",
    "print(lines)"
   ]
  },
  {
   "cell_type": "code",
   "execution_count": 10,
   "id": "d4232f54",
   "metadata": {},
   "outputs": [
    {
     "data": {
      "text/plain": [
       "4"
      ]
     },
     "execution_count": 10,
     "metadata": {},
     "output_type": "execute_result"
    }
   ],
   "source": [
    "len(lines)"
   ]
  },
  {
   "cell_type": "code",
   "execution_count": 11,
   "id": "d869ef22",
   "metadata": {},
   "outputs": [
    {
     "ename": "FileNotFoundError",
     "evalue": "[Errno 2] No such file or directory: '/Users/dima/Documents/python_programisli/sample.txt'",
     "output_type": "error",
     "traceback": [
      "\u001b[1;31m---------------------------------------------------------------------------\u001b[0m",
      "\u001b[1;31mFileNotFoundError\u001b[0m                         Traceback (most recent call last)",
      "Cell \u001b[1;32mIn[11], line 1\u001b[0m\n\u001b[1;32m----> 1\u001b[0m sample_file \u001b[38;5;241m=\u001b[39m \u001b[38;5;28mopen\u001b[39m(\u001b[38;5;124m'\u001b[39m\u001b[38;5;124m/Users/dima/Documents/python_programisli/sample.txt\u001b[39m\u001b[38;5;124m'\u001b[39m)\n",
      "File \u001b[1;32m~\\anaconda3\\Lib\\site-packages\\IPython\\core\\interactiveshell.py:286\u001b[0m, in \u001b[0;36m_modified_open\u001b[1;34m(file, *args, **kwargs)\u001b[0m\n\u001b[0;32m    279\u001b[0m \u001b[38;5;28;01mif\u001b[39;00m file \u001b[38;5;129;01min\u001b[39;00m {\u001b[38;5;241m0\u001b[39m, \u001b[38;5;241m1\u001b[39m, \u001b[38;5;241m2\u001b[39m}:\n\u001b[0;32m    280\u001b[0m     \u001b[38;5;28;01mraise\u001b[39;00m \u001b[38;5;167;01mValueError\u001b[39;00m(\n\u001b[0;32m    281\u001b[0m         \u001b[38;5;124mf\u001b[39m\u001b[38;5;124m\"\u001b[39m\u001b[38;5;124mIPython won\u001b[39m\u001b[38;5;124m'\u001b[39m\u001b[38;5;124mt let you open fd=\u001b[39m\u001b[38;5;132;01m{\u001b[39;00mfile\u001b[38;5;132;01m}\u001b[39;00m\u001b[38;5;124m by default \u001b[39m\u001b[38;5;124m\"\u001b[39m\n\u001b[0;32m    282\u001b[0m         \u001b[38;5;124m\"\u001b[39m\u001b[38;5;124mas it is likely to crash IPython. If you know what you are doing, \u001b[39m\u001b[38;5;124m\"\u001b[39m\n\u001b[0;32m    283\u001b[0m         \u001b[38;5;124m\"\u001b[39m\u001b[38;5;124myou can use builtins\u001b[39m\u001b[38;5;124m'\u001b[39m\u001b[38;5;124m open.\u001b[39m\u001b[38;5;124m\"\u001b[39m\n\u001b[0;32m    284\u001b[0m     )\n\u001b[1;32m--> 286\u001b[0m \u001b[38;5;28;01mreturn\u001b[39;00m io_open(file, \u001b[38;5;241m*\u001b[39margs, \u001b[38;5;241m*\u001b[39m\u001b[38;5;241m*\u001b[39mkwargs)\n",
      "\u001b[1;31mFileNotFoundError\u001b[0m: [Errno 2] No such file or directory: '/Users/dima/Documents/python_programisli/sample.txt'"
     ]
    }
   ],
   "source": [
    "sample_file = open('/Users/dima/Documents/python_programisli/sample.txt')"
   ]
  },
  {
   "cell_type": "code",
   "execution_count": null,
   "id": "a1c84b33",
   "metadata": {},
   "outputs": [],
   "source": [
    "file.close()\n",
    "sample_file.close()"
   ]
  },
  {
   "cell_type": "code",
   "execution_count": null,
   "id": "acc1efd0",
   "metadata": {},
   "outputs": [],
   "source": [
    "print (file.closed)\n",
    "print(sample_file.closed)"
   ]
  },
  {
   "cell_type": "code",
   "execution_count": null,
   "id": "adcc84fa",
   "metadata": {},
   "outputs": [],
   "source": [
    "with open('sample.txt') as sample_file:\n",
    "    sample_data = sample_file.read()"
   ]
  },
  {
   "cell_type": "code",
   "execution_count": null,
   "id": "2b21b473",
   "metadata": {},
   "outputs": [],
   "source": [
    "print(sample_data)"
   ]
  },
  {
   "cell_type": "code",
   "execution_count": null,
   "id": "00e74e43",
   "metadata": {},
   "outputs": [],
   "source": [
    "#with open('sample.txt', mode ='r') as sample_file:\n",
    "#   data = sample_file.read()"
   ]
  },
  {
   "cell_type": "code",
   "execution_count": null,
   "id": "9e5e704c",
   "metadata": {},
   "outputs": [],
   "source": [
    "with open ('sample.txt', mode ='a') as sample_file:\n",
    "    sample_file.write('Eric;7639')"
   ]
  },
  {
   "cell_type": "code",
   "execution_count": null,
   "id": "cf9f2a87",
   "metadata": {},
   "outputs": [],
   "source": [
    "#file.seek(0)\n",
    "print(sample_data)"
   ]
  },
  {
   "cell_type": "code",
   "execution_count": null,
   "id": "487631c2",
   "metadata": {},
   "outputs": [],
   "source": [
    "with open ('sample.txt', mode ='r') as sample_file:\n",
    "    print (sample_file.read())"
   ]
  },
  {
   "cell_type": "code",
   "execution_count": 15,
   "id": "07345c30",
   "metadata": {},
   "outputs": [
    {
     "name": "stdout",
     "output_type": "stream",
     "text": [
      "Name|Phone\n",
      "jonh;1234\n",
      "Bob;5678\n",
      "Alice;9432\n",
      "\n",
      "Toub;5627\n",
      "Toub;5627Toub;5627\n",
      "Toub;5627\n"
     ]
    }
   ],
   "source": [
    "with open('sample.txt', mode='r+') as sample_file:\n",
    "    sample_file.seek(0, 2)\n",
    "    sample_file.write('\\nToub;5627')\n",
    "    sample_file.seek (0)\n",
    "    print (sample_file.read())"
   ]
  },
  {
   "cell_type": "code",
   "execution_count": null,
   "id": "2571751a",
   "metadata": {},
   "outputs": [],
   "source": [
    "with open('testuu.txt', mode = 'w+') as spell_file:\n",
    "    spell_file.write('testuu.txt')\n",
    "    spell_file.seek(0)\n",
    "    print (spell_file.read())"
   ]
  },
  {
   "cell_type": "code",
   "execution_count": null,
   "id": "8a3dfdd9",
   "metadata": {},
   "outputs": [],
   "source": [
    "sample_file = open(r'C:\\\\Users\\\\dima\\\\Documents\\\\Python Scripts\\\\sample.txt')\n",
    "print (sample_file.read())"
   ]
  },
  {
   "cell_type": "code",
   "execution_count": null,
   "id": "143d9117",
   "metadata": {},
   "outputs": [],
   "source": [
    "file.close()\n",
    "sample_file.close()"
   ]
  }
 ],
 "metadata": {
  "kernelspec": {
   "display_name": "Python 3 (ipykernel)",
   "language": "python",
   "name": "python3"
  },
  "language_info": {
   "codemirror_mode": {
    "name": "ipython",
    "version": 3
   },
   "file_extension": ".py",
   "mimetype": "text/x-python",
   "name": "python",
   "nbconvert_exporter": "python",
   "pygments_lexer": "ipython3",
   "version": "3.11.5"
  }
 },
 "nbformat": 4,
 "nbformat_minor": 5
}
