{
 "cells": [
  {
   "cell_type": "code",
   "execution_count": 14,
   "id": "b5efb395",
   "metadata": {},
   "outputs": [
    {
     "data": {
      "text/plain": [
       "21"
      ]
     },
     "execution_count": 14,
     "metadata": {},
     "output_type": "execute_result"
    }
   ],
   "source": [
    "x=\"hello my name is Dima\"\n",
    "\n",
    "type(x)\n",
    "len(x)"
   ]
  },
  {
   "cell_type": "code",
   "execution_count": 3,
   "id": "130d7688",
   "metadata": {},
   "outputs": [
    {
     "data": {
      "text/plain": [
       "'a'"
      ]
     },
     "execution_count": 3,
     "metadata": {},
     "output_type": "execute_result"
    }
   ],
   "source": [
    "x [len(x)-1] #Узнаем последний символ по индексу"
   ]
  },
  {
   "cell_type": "code",
   "execution_count": 13,
   "id": "5b0a49a4",
   "metadata": {},
   "outputs": [
    {
     "data": {
      "text/plain": [
       "2"
      ]
     },
     "execution_count": 13,
     "metadata": {},
     "output_type": "execute_result"
    }
   ],
   "source": [
    "x.count('l') # Узнаем количество l в строке x"
   ]
  },
  {
   "cell_type": "code",
   "execution_count": 8,
   "id": "41f22eb5",
   "metadata": {},
   "outputs": [
    {
     "data": {
      "text/plain": [
       "'Hello my name is dima'"
      ]
     },
     "execution_count": 8,
     "metadata": {},
     "output_type": "execute_result"
    }
   ],
   "source": [
    "x.capitalize()# Строка с большой буквы"
   ]
  },
  {
   "cell_type": "code",
   "execution_count": 15,
   "id": "6a673382",
   "metadata": {},
   "outputs": [
    {
     "name": "stdout",
     "output_type": "stream",
     "text": [
      "HELLO MY NAME IS DIMA\n"
     ]
    }
   ],
   "source": [
    "upper_cased  = x.upper()# all upper cased \n",
    "print(upper_cased)"
   ]
  },
  {
   "cell_type": "code",
   "execution_count": 16,
   "id": "c0f0baad",
   "metadata": {},
   "outputs": [
    {
     "name": "stdout",
     "output_type": "stream",
     "text": [
      "hello my name is dima\n"
     ]
    }
   ],
   "source": [
    "lower_cased = x.lower()# all lower cased \n",
    "print(lower_cased)"
   ]
  },
  {
   "cell_type": "code",
   "execution_count": 17,
   "id": "331ed140",
   "metadata": {},
   "outputs": [
    {
     "data": {
      "text/plain": [
       "'hello my name is Dima'"
      ]
     },
     "execution_count": 17,
     "metadata": {},
     "output_type": "execute_result"
    }
   ],
   "source": [
    "x"
   ]
  },
  {
   "cell_type": "code",
   "execution_count": 22,
   "id": "d18f8624",
   "metadata": {},
   "outputs": [
    {
     "name": "stdout",
     "output_type": "stream",
     "text": [
      "True\n",
      "True\n",
      "False\n",
      "False\n"
     ]
    }
   ],
   "source": [
    "print(upper_cased.isupper()) # cheack all upper cased \n",
    "print(lower_cased.islower()) # cheack all lower cased\n",
    "print(x.isupper())\n",
    "print(x.islower())"
   ]
  },
  {
   "cell_type": "code",
   "execution_count": 29,
   "id": "640beb57",
   "metadata": {},
   "outputs": [
    {
     "name": "stdout",
     "output_type": "stream",
     "text": [
      "2\n",
      "3\n",
      "3\n",
      "11\n"
     ]
    }
   ],
   "source": [
    "print(x.find('l'))\n",
    "print(x.find('l',3))\n",
    "print(x.find('l',3,10))\n",
    "print(x.find('m',8,15))"
   ]
  },
  {
   "cell_type": "code",
   "execution_count": 30,
   "id": "c1a273ed",
   "metadata": {},
   "outputs": [
    {
     "name": "stdout",
     "output_type": "stream",
     "text": [
      "6\n"
     ]
    }
   ],
   "source": [
    "print(x.find('my'))"
   ]
  },
  {
   "cell_type": "code",
   "execution_count": 33,
   "id": "2ca10da6",
   "metadata": {},
   "outputs": [
    {
     "name": "stdout",
     "output_type": "stream",
     "text": [
      "True\n",
      "False\n"
     ]
    }
   ],
   "source": [
    "print ('123abc'.isalnum()) # Все из букв и цифр\n",
    "print ('123ab!c'.isalnum())"
   ]
  },
  {
   "cell_type": "code",
   "execution_count": 35,
   "id": "eb36b284",
   "metadata": {},
   "outputs": [
    {
     "name": "stdout",
     "output_type": "stream",
     "text": [
      "False\n",
      "True\n"
     ]
    }
   ],
   "source": [
    "print ('123abc'.isalpha())# Все из букв\n",
    "print ('abc'.isalpha())"
   ]
  },
  {
   "cell_type": "code",
   "execution_count": 37,
   "id": "8e7bb32c",
   "metadata": {},
   "outputs": [
    {
     "name": "stdout",
     "output_type": "stream",
     "text": [
      "True\n",
      "False\n"
     ]
    }
   ],
   "source": [
    "print ('   '.isspace()) # cheack all is space\n",
    "print ('  1 '.isspace())\n",
    "print (''.isspace())"
   ]
  },
  {
   "cell_type": "code",
   "execution_count": 42,
   "id": "c90dc7a8",
   "metadata": {},
   "outputs": [
    {
     "name": "stdout",
     "output_type": "stream",
     "text": [
      "True\n"
     ]
    }
   ],
   "source": [
    "empty_string = ''  # cheack all empty\n",
    "print(empty_string == \"\")"
   ]
  },
  {
   "cell_type": "code",
   "execution_count": 44,
   "id": "7fa2ea35",
   "metadata": {},
   "outputs": [
    {
     "name": "stdout",
     "output_type": "stream",
     "text": [
      "True\n"
     ]
    }
   ],
   "source": [
    "empty_string = ' '  # cheack all empty .strip delete spaces\n",
    "print(empty_string.strip(' ') == \"\")"
   ]
  },
  {
   "cell_type": "code",
   "execution_count": 49,
   "id": "1ae52c1d",
   "metadata": {},
   "outputs": [
    {
     "name": "stdout",
     "output_type": "stream",
     "text": [
      "empty\n"
     ]
    }
   ],
   "source": [
    "empty_string = ' '\n",
    "if not empty_string:\n",
    "    print (\"not empty\")\n",
    "else:\n",
    "    print ('empty')"
   ]
  },
  {
   "cell_type": "code",
   "execution_count": 52,
   "id": "b7aa694d",
   "metadata": {},
   "outputs": [
    {
     "name": "stdout",
     "output_type": "stream",
     "text": [
      "True\n",
      "False\n"
     ]
    }
   ],
   "source": [
    "h = 'hello'\n",
    "print(h.startswith ('he')) # cheack starts with simbol 'he'\n",
    "print(h.endswith('he'))"
   ]
  },
  {
   "cell_type": "code",
   "execution_count": 54,
   "id": "51708c74",
   "metadata": {},
   "outputs": [
    {
     "name": "stdout",
     "output_type": "stream",
     "text": [
      "<class 'list'>\n",
      "['he', '', 'o']\n",
      "['h', 'llo']\n"
     ]
    }
   ],
   "source": [
    "split = h.split('l') # Разбиваем входящую строку на части используя определенный разделитель\n",
    "print(type(split))\n",
    "print(split)\n",
    "split = h.split('e')\n",
    "print(split)"
   ]
  },
  {
   "cell_type": "code",
   "execution_count": 57,
   "id": "96e25bfa",
   "metadata": {},
   "outputs": [
    {
     "name": "stdout",
     "output_type": "stream",
     "text": [
      "['12', '10', '8', '10']\n"
     ]
    }
   ],
   "source": [
    "data = '12;10;8;10'\n",
    "separate_data = data.split(';')\n",
    "print(separate_data)"
   ]
  },
  {
   "cell_type": "code",
   "execution_count": 69,
   "id": "d82fb323",
   "metadata": {},
   "outputs": [
    {
     "name": "stdout",
     "output_type": "stream",
     "text": [
      "('Python ', 'is ', 'fun')\n",
      "('Python is fun', '', '')\n",
      "('Python ', 'is', \" fun, isn't it\")\n"
     ]
    }
   ],
   "source": [
    "python = \"Python is fun\"\n",
    "\n",
    "print(python.partition('is '))\n",
    "print(python.partition('not '))\n",
    "\n",
    "python = \"Python is fun, isn't it\"\n",
    "\n",
    "print(python.partition('is'))\n"
   ]
  }
 ],
 "metadata": {
  "kernelspec": {
   "display_name": "Python 3 (ipykernel)",
   "language": "python",
   "name": "python3"
  },
  "language_info": {
   "codemirror_mode": {
    "name": "ipython",
    "version": 3
   },
   "file_extension": ".py",
   "mimetype": "text/x-python",
   "name": "python",
   "nbconvert_exporter": "python",
   "pygments_lexer": "ipython3",
   "version": "3.11.5"
  }
 },
 "nbformat": 4,
 "nbformat_minor": 5
}
