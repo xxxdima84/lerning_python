{
 "cells": [
  {
   "cell_type": "code",
   "execution_count": 23,
   "id": "0c6b6986",
   "metadata": {},
   "outputs": [
    {
     "name": "stdout",
     "output_type": "stream",
     "text": [
      "2.828\n"
     ]
    }
   ],
   "source": [
    "#AB = √(xb - xa)2 + (yb - ya)2\n",
    "\n",
    "import math\n",
    "\n",
    "x1_str = 1\n",
    "\n",
    "y1_str = 2\n",
    "\n",
    "x2_str = 3\n",
    "\n",
    "y2_str = 4\n",
    "\n",
    "a = x2_str - x1_str\n",
    "b = y2_str - y1_str\n",
    "ab = (a)**2 + (b)** 2\n",
    "r = math.sqrt(ab)\n",
    "\n",
    "\n",
    "print (\"%.3f\" % r)"
   ]
  },
  {
   "cell_type": "code",
   "execution_count": 18,
   "id": "2702d36e",
   "metadata": {},
   "outputs": [
    {
     "name": "stdout",
     "output_type": "stream",
     "text": [
      "5.0\n"
     ]
    }
   ],
   "source": [
    "import math\n",
    "num = 25\n",
    "sqrt = math.sqrt(num)\n",
    "print(sqrt)"
   ]
  },
  {
   "cell_type": "code",
   "execution_count": 28,
   "id": "6d584e37",
   "metadata": {},
   "outputs": [
    {
     "name": "stdout",
     "output_type": "stream",
     "text": [
      "1\n",
      "2\n",
      "3\n",
      "22\n"
     ]
    }
   ],
   "source": [
    "a, b, c = 2, 4, 4\n",
    "chicken = int(input())\n",
    "cows = int(input())\n",
    "pigs = int(input())\n",
    "\n",
    "legs = 2 * (chicken) + 4 * (cows) + 4 * (pigs)\n",
    "\n",
    "print(legs)"
   ]
  },
  {
   "cell_type": "code",
   "execution_count": 29,
   "id": "4a696c1d",
   "metadata": {},
   "outputs": [
    {
     "name": "stdout",
     "output_type": "stream",
     "text": [
      "7\n",
      "1\n"
     ]
    }
   ],
   "source": [
    "cups = int(input())\n",
    "print (cups//6)"
   ]
  },
  {
   "cell_type": "code",
   "execution_count": null,
   "id": "3dd258e1",
   "metadata": {},
   "outputs": [],
   "source": []
  }
 ],
 "metadata": {
  "kernelspec": {
   "display_name": "Python 3 (ipykernel)",
   "language": "python",
   "name": "python3"
  },
  "language_info": {
   "codemirror_mode": {
    "name": "ipython",
    "version": 3
   },
   "file_extension": ".py",
   "mimetype": "text/x-python",
   "name": "python",
   "nbconvert_exporter": "python",
   "pygments_lexer": "ipython3",
   "version": "3.11.5"
  }
 },
 "nbformat": 4,
 "nbformat_minor": 5
}
