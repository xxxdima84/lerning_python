{
 "cells": [
  {
   "cell_type": "code",
   "execution_count": 3,
   "id": "0bc3e22a",
   "metadata": {},
   "outputs": [],
   "source": [
    "players = {\n",
    "    'Carlsen': 2842,\n",
    "    'Caruana': 2822,\n",
    "    'Mamedyrov' : 2801,\n",
    "    'Ding' : 2797,\n",
    "    'Giri' : 2780\n",
    "}"
   ]
  },
  {
   "cell_type": "code",
   "execution_count": 11,
   "id": "b70fbc06",
   "metadata": {},
   "outputs": [
    {
     "name": "stdout",
     "output_type": "stream",
     "text": [
      "{'Carlsen': 2842, 'Caruana': 2822, 'Mamedyrov': 2801, 'Ding': 2797, 'Giri': 2780}\n"
     ]
    },
    {
     "data": {
      "text/plain": [
       "{'Carlsen': 2842,\n",
       " 'Caruana': 2822,\n",
       " 'Mamedyrov': 2801,\n",
       " 'Ding': 2797,\n",
       " 'Giri': 2780}"
      ]
     },
     "execution_count": 11,
     "metadata": {},
     "output_type": "execute_result"
    }
   ],
   "source": [
    "players = dict(Carlsen = 2842, Caruana = 2822, Mamedyrov = 2801, Ding = 2797, Giri = 2780)\n",
    "\n",
    "print (players)\n",
    "\n",
    "players"
   ]
  },
  {
   "cell_type": "code",
   "execution_count": 15,
   "id": "3f54195c",
   "metadata": {},
   "outputs": [
    {
     "name": "stdout",
     "output_type": "stream",
     "text": [
      "Top chess player's is 2842\n"
     ]
    }
   ],
   "source": [
    "# вывести значение по ключу\n",
    "top1 = players ['Carlsen']\n",
    "print (f\"Top chess player's is {top1}\")"
   ]
  },
  {
   "cell_type": "code",
   "execution_count": 16,
   "id": "18407c93",
   "metadata": {},
   "outputs": [
    {
     "name": "stdout",
     "output_type": "stream",
     "text": [
      "{'Carlsen': 2842, 'Caruana': 2822, 'Mamedyrov': 2801, 'Ding': 2797, 'Giri': 2780, 'So': 2780}\n"
     ]
    }
   ],
   "source": [
    "# добавить значение по ключу\n",
    "players['So'] = 2780\n",
    "print (players)"
   ]
  },
  {
   "cell_type": "code",
   "execution_count": 17,
   "id": "4a9e67a8",
   "metadata": {},
   "outputs": [
    {
     "name": "stdout",
     "output_type": "stream",
     "text": [
      "{'Carlsen': 2842, 'Caruana': 2822, 'Mamedyrov': 2801, 'Ding': 2797, 'Giri': 2780, 'So': 2781}\n"
     ]
    }
   ],
   "source": [
    "# изменить значение по ключу\n",
    "players['So'] = 2781\n",
    "print (players)"
   ]
  },
  {
   "cell_type": "code",
   "execution_count": 19,
   "id": "2e6c6360",
   "metadata": {},
   "outputs": [
    {
     "name": "stdout",
     "output_type": "stream",
     "text": [
      "{'Carlsen': 2842, 'Caruana': 2822, 'Mamedyrov': 2801, 'Ding': 2797, 'Giri': 2780}\n"
     ]
    }
   ],
   "source": [
    "# удалить значение по ключу\n",
    "del players['So']\n",
    "print (players)"
   ]
  },
  {
   "cell_type": "code",
   "execution_count": 20,
   "id": "9d6fca6e",
   "metadata": {},
   "outputs": [
    {
     "name": "stdout",
     "output_type": "stream",
     "text": [
      "<class 'dict_keys'>\n",
      "dict_keys(['Carlsen', 'Caruana', 'Mamedyrov', 'Ding', 'Giri'])\n"
     ]
    }
   ],
   "source": [
    "# посмотреть ключи словаря\n",
    "keys = players.keys()\n",
    "print (type(keys))\n",
    "print(keys)"
   ]
  },
  {
   "cell_type": "code",
   "execution_count": 27,
   "id": "826cb454",
   "metadata": {},
   "outputs": [
    {
     "name": "stdout",
     "output_type": "stream",
     "text": [
      "<class 'list'>\n",
      "['Carlsen', 'Caruana', 'Mamedyrov', 'Ding', 'Giri']\n"
     ]
    }
   ],
   "source": [
    "# вывести список (list) ключей\n",
    "\n",
    "l = list(players.keys())\n",
    "print (type(l))\n",
    "print(l)"
   ]
  },
  {
   "cell_type": "code",
   "execution_count": 30,
   "id": "abd53f91",
   "metadata": {},
   "outputs": [
    {
     "name": "stdout",
     "output_type": "stream",
     "text": [
      "['Carlsen', 'Caruana', 'Ding', 'Giri', 'Mamedyrov']\n"
     ]
    }
   ],
   "source": [
    "# сортировка ключей - получение отсортированного списка \n",
    "print (sorted(players.keys()))"
   ]
  },
  {
   "cell_type": "code",
   "execution_count": 31,
   "id": "94944d4f",
   "metadata": {},
   "outputs": [
    {
     "name": "stdout",
     "output_type": "stream",
     "text": [
      "True\n",
      "True\n",
      "False\n"
     ]
    }
   ],
   "source": [
    "# есть ли ключи в словаре\n",
    "\n",
    "print('Carlsen' in players)\n",
    "print('Kramik' not in players)\n",
    "print('Carlsen' not in players)"
   ]
  },
  {
   "cell_type": "code",
   "execution_count": 32,
   "id": "9e2239f4",
   "metadata": {},
   "outputs": [
    {
     "name": "stdout",
     "output_type": "stream",
     "text": [
      "<class 'dict_values'>\n",
      "dict_values([2842, 2822, 2801, 2797, 2780])\n"
     ]
    }
   ],
   "source": [
    "# Вывод значений в словаре\n",
    "vals = players.values()\n",
    "print(type(vals))\n",
    "print(vals)"
   ]
  },
  {
   "cell_type": "code",
   "execution_count": 33,
   "id": "cde803e8",
   "metadata": {},
   "outputs": [
    {
     "name": "stdout",
     "output_type": "stream",
     "text": [
      "<class 'list'>\n",
      "[2842, 2822, 2801, 2797, 2780]\n"
     ]
    }
   ],
   "source": [
    "# вывести список (list) значений\n",
    "vals = list(players.values())\n",
    "print(type(vals))\n",
    "print(vals)"
   ]
  },
  {
   "cell_type": "code",
   "execution_count": 41,
   "id": "e402a764",
   "metadata": {},
   "outputs": [
    {
     "name": "stdout",
     "output_type": "stream",
     "text": [
      "[2780, 2797, 2801, 2822, 2842]\n"
     ]
    }
   ],
   "source": [
    "# сортировка аргументов - получение отсортированного списка \n",
    "print (sorted (players.values()))"
   ]
  },
  {
   "cell_type": "code",
   "execution_count": 42,
   "id": "0a1ae24a",
   "metadata": {},
   "outputs": [
    {
     "name": "stdout",
     "output_type": "stream",
     "text": [
      "{'Carlsen': 2842, 'Caruana': 2822, 'Mamedyrov': 2801, 'Ding': 2797, 'Giri': 2780}\n"
     ]
    }
   ],
   "source": [
    "# копирование словаря\n",
    "players_copy = players.copy()\n",
    "print(players_copy)"
   ]
  },
  {
   "cell_type": "code",
   "execution_count": 43,
   "id": "a5dfb824",
   "metadata": {},
   "outputs": [
    {
     "name": "stdout",
     "output_type": "stream",
     "text": [
      "Carlsen 2842\n",
      "Caruana 2822\n",
      "Mamedyrov 2801\n",
      "Ding 2797\n",
      "Giri 2780\n"
     ]
    }
   ],
   "source": [
    "# пройти с помощю цикла по словарю\n",
    "for k, v in players.items():\n",
    "    print (k, v)"
   ]
  },
  {
   "cell_type": "code",
   "execution_count": 45,
   "id": "cc6b6d9a",
   "metadata": {},
   "outputs": [
    {
     "name": "stdout",
     "output_type": "stream",
     "text": [
      "<class 'dict_items'>\n"
     ]
    }
   ],
   "source": [
    "# список содержащий ключ/значение\n",
    "items = players.items()\n",
    "print (type(items))"
   ]
  },
  {
   "cell_type": "code",
   "execution_count": 46,
   "id": "a075b208",
   "metadata": {},
   "outputs": [
    {
     "name": "stdout",
     "output_type": "stream",
     "text": [
      "{'Carlsen': 2842, 'Caruana': 2822, 'Mamedyrov': 2801, 'Ding': 2797}\n"
     ]
    }
   ],
   "source": [
    "# удалить ключ/значение из словаря\n",
    "players.pop('Giri')\n",
    "print (players)"
   ]
  },
  {
   "cell_type": "code",
   "execution_count": 47,
   "id": "120e0e84",
   "metadata": {},
   "outputs": [
    {
     "name": "stdout",
     "output_type": "stream",
     "text": [
      "('Ding', 2797)\n",
      "{'Carlsen': 2842, 'Caruana': 2822, 'Mamedyrov': 2801}\n"
     ]
    }
   ],
   "source": [
    "# удалить значение с конца словаря и вывести его значение\n",
    "print (players.popitem())\n",
    "print (players)"
   ]
  },
  {
   "cell_type": "code",
   "execution_count": 49,
   "id": "bec5c950",
   "metadata": {},
   "outputs": [
    {
     "name": "stdout",
     "output_type": "stream",
     "text": [
      "3\n"
     ]
    }
   ],
   "source": [
    "# подсчитать длину словаря\n",
    "print (len (players))"
   ]
  },
  {
   "cell_type": "code",
   "execution_count": 50,
   "id": "318b334e",
   "metadata": {},
   "outputs": [
    {
     "name": "stdout",
     "output_type": "stream",
     "text": [
      "{'Carlsen': 2842, 'Caruana': 2822, 'Mamedyrov': 2801, 'Kajakin': None}\n"
     ]
    }
   ],
   "source": [
    "# запрашивает ключ и если его нет добавляет его с значением None\n",
    "players.setdefault('Kajakin')\n",
    "print (players)"
   ]
  },
  {
   "cell_type": "code",
   "execution_count": null,
   "id": "2db828e2",
   "metadata": {},
   "outputs": [],
   "source": [
    "# кличи должны быть уникальны"
   ]
  }
 ],
 "metadata": {
  "kernelspec": {
   "display_name": "Python 3 (ipykernel)",
   "language": "python",
   "name": "python3"
  },
  "language_info": {
   "codemirror_mode": {
    "name": "ipython",
    "version": 3
   },
   "file_extension": ".py",
   "mimetype": "text/x-python",
   "name": "python",
   "nbconvert_exporter": "python",
   "pygments_lexer": "ipython3",
   "version": "3.11.5"
  }
 },
 "nbformat": 4,
 "nbformat_minor": 5
}
