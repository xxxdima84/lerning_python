{
 "cells": [
  {
   "cell_type": "code",
   "execution_count": 1,
   "id": "864975a1",
   "metadata": {},
   "outputs": [
    {
     "data": {
      "text/plain": [
       "20400"
      ]
     },
     "execution_count": 1,
     "metadata": {},
     "output_type": "execute_result"
    }
   ],
   "source": [
    "1700 * 12"
   ]
  },
  {
   "cell_type": "code",
   "execution_count": 3,
   "id": "e049ac0f",
   "metadata": {},
   "outputs": [
    {
     "name": "stdout",
     "output_type": "stream",
     "text": [
      "My name is Dima\n"
     ]
    }
   ],
   "source": [
    "my_name=\"Dima\"\n",
    "print(\"My name is {}\".format(my_name))"
   ]
  },
  {
   "cell_type": "code",
   "execution_count": 7,
   "id": "efa5af35",
   "metadata": {},
   "outputs": [
    {
     "name": "stdout",
     "output_type": "stream",
     "text": [
      "My name is Dima and I'm 39\n"
     ]
    }
   ],
   "source": [
    "my_name=\"Dima\"\n",
    "print(\"My name is {0} and I'm {1}\".format(my_name, 39))"
   ]
  },
  {
   "cell_type": "code",
   "execution_count": 9,
   "id": "6fdadbe7",
   "metadata": {},
   "outputs": [
    {
     "name": "stdout",
     "output_type": "stream",
     "text": [
      "Pi equals 3.142\n"
     ]
    }
   ],
   "source": [
    "pi  = 3.1415161719\n",
    "print(\"Pi equals {r:1.3f}\" .format (r=pi))"
   ]
  },
  {
   "cell_type": "code",
   "execution_count": null,
   "id": "98bfbdae",
   "metadata": {},
   "outputs": [],
   "source": []
  },
  {
   "cell_type": "code",
   "execution_count": 11,
   "id": "f2149d27",
   "metadata": {},
   "outputs": [
    {
     "name": "stdout",
     "output_type": "stream",
     "text": [
      " My name is Dima and I'm 39\n"
     ]
    }
   ],
   "source": [
    "name = \"Dima\"\n",
    "age = 39\n",
    "print (f\" My name is {name} and I'm {age}\")"
   ]
  },
  {
   "cell_type": "code",
   "execution_count": 15,
   "id": "fa2fdf3e",
   "metadata": {},
   "outputs": [
    {
     "name": "stdout",
     "output_type": "stream",
     "text": [
      " Pi equals 3.14\n"
     ]
    }
   ],
   "source": [
    "pi  = 3.1415161719\n",
    "print(f\" Pi equals {pi:1.2f}\")"
   ]
  },
  {
   "cell_type": "code",
   "execution_count": null,
   "id": "947c7633",
   "metadata": {},
   "outputs": [],
   "source": []
  }
 ],
 "metadata": {
  "kernelspec": {
   "display_name": "Python 3 (ipykernel)",
   "language": "python",
   "name": "python3"
  },
  "language_info": {
   "codemirror_mode": {
    "name": "ipython",
    "version": 3
   },
   "file_extension": ".py",
   "mimetype": "text/x-python",
   "name": "python",
   "nbconvert_exporter": "python",
   "pygments_lexer": "ipython3",
   "version": "3.11.5"
  }
 },
 "nbformat": 4,
 "nbformat_minor": 5
}
