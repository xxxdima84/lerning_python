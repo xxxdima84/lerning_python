{
 "cells": [
  {
   "cell_type": "code",
   "execution_count": 1,
   "id": "73f4228a",
   "metadata": {},
   "outputs": [
    {
     "data": {
      "text/plain": [
       "'dima'"
      ]
     },
     "execution_count": 1,
     "metadata": {},
     "output_type": "execute_result"
    }
   ],
   "source": [
    "'dima'"
   ]
  },
  {
   "cell_type": "code",
   "execution_count": 2,
   "id": "907806bb",
   "metadata": {},
   "outputs": [
    {
     "data": {
      "text/plain": [
       "'dima'"
      ]
     },
     "execution_count": 2,
     "metadata": {},
     "output_type": "execute_result"
    }
   ],
   "source": [
    "\"dima\""
   ]
  },
  {
   "cell_type": "code",
   "execution_count": 3,
   "id": "67ca2993",
   "metadata": {},
   "outputs": [
    {
     "data": {
      "text/plain": [
       "\"I'm dima\""
      ]
     },
     "execution_count": 3,
     "metadata": {},
     "output_type": "execute_result"
    }
   ],
   "source": [
    "\"I'm dima\""
   ]
  },
  {
   "cell_type": "code",
   "execution_count": 4,
   "id": "9a852b8b",
   "metadata": {},
   "outputs": [
    {
     "data": {
      "text/plain": [
       "'dima is \"power\"'"
      ]
     },
     "execution_count": 4,
     "metadata": {},
     "output_type": "execute_result"
    }
   ],
   "source": [
    "'dima is \"power\"'"
   ]
  },
  {
   "cell_type": "code",
   "execution_count": 5,
   "id": "12a0f5a6",
   "metadata": {},
   "outputs": [],
   "source": [
    "#I'm Dima and i is \"power\""
   ]
  },
  {
   "cell_type": "code",
   "execution_count": 7,
   "id": "c39a68ba",
   "metadata": {},
   "outputs": [
    {
     "data": {
      "text/plain": [
       "'I\\'m Dima and i is \"power\"'"
      ]
     },
     "execution_count": 7,
     "metadata": {},
     "output_type": "execute_result"
    }
   ],
   "source": [
    "\"I\\'m Dima and i is \\\"power\\\"\""
   ]
  },
  {
   "cell_type": "code",
   "execution_count": 8,
   "id": "a49e151a",
   "metadata": {},
   "outputs": [
    {
     "name": "stdout",
     "output_type": "stream",
     "text": [
      "I'm Dima and i is \"power\"\n"
     ]
    }
   ],
   "source": [
    "print(\"I\\'m Dima and i is \\\"power\\\"\")"
   ]
  },
  {
   "cell_type": "code",
   "execution_count": 10,
   "id": "ae15c2f0",
   "metadata": {},
   "outputs": [
    {
     "data": {
      "text/plain": [
       "'c:\\\\users\\\\dima'"
      ]
     },
     "execution_count": 10,
     "metadata": {},
     "output_type": "execute_result"
    }
   ],
   "source": [
    "'c:\\\\users\\\\dima'"
   ]
  },
  {
   "cell_type": "code",
   "execution_count": 11,
   "id": "12f55c66",
   "metadata": {},
   "outputs": [
    {
     "name": "stdout",
     "output_type": "stream",
     "text": [
      "c:\\users\\dima\n"
     ]
    }
   ],
   "source": [
    "print ('c:\\\\users\\\\dima')"
   ]
  },
  {
   "cell_type": "code",
   "execution_count": 13,
   "id": "78418445",
   "metadata": {},
   "outputs": [
    {
     "data": {
      "text/plain": [
       "' c:\\\\users\\\\dima'"
      ]
     },
     "execution_count": 13,
     "metadata": {},
     "output_type": "execute_result"
    }
   ],
   "source": [
    "r'c:\\users\\dima'"
   ]
  },
  {
   "cell_type": "code",
   "execution_count": 14,
   "id": "ad9eac6a",
   "metadata": {},
   "outputs": [
    {
     "name": "stdout",
     "output_type": "stream",
     "text": [
      "c:\\users\\dima\n"
     ]
    }
   ],
   "source": [
    "print (r'c:\\users\\dima')"
   ]
  },
  {
   "cell_type": "code",
   "execution_count": 16,
   "id": "c22a4a98",
   "metadata": {},
   "outputs": [
    {
     "name": "stdout",
     "output_type": "stream",
     "text": [
      "I' dima \n",
      "and I'm programmer\n"
     ]
    }
   ],
   "source": [
    "print(\"I' dima \\nand I'm programmer\")"
   ]
  },
  {
   "cell_type": "code",
   "execution_count": 17,
   "id": "d468c9d6",
   "metadata": {},
   "outputs": [
    {
     "name": "stdout",
     "output_type": "stream",
     "text": [
      "I' dima \r\n",
      "and I'm programmer\n"
     ]
    }
   ],
   "source": [
    "print(\"I' dima \\r\\nand I'm programmer\")"
   ]
  },
  {
   "cell_type": "code",
   "execution_count": 18,
   "id": "21c218b3",
   "metadata": {},
   "outputs": [
    {
     "name": "stdout",
     "output_type": "stream",
     "text": [
      "I' dima \tand I'm programmer\n"
     ]
    }
   ],
   "source": [
    "print(\"I' dima \\tand I'm programmer\")"
   ]
  },
  {
   "cell_type": "code",
   "execution_count": 25,
   "id": "636086b5",
   "metadata": {},
   "outputs": [
    {
     "name": "stdout",
     "output_type": "stream",
     "text": [
      "hello\n"
     ]
    }
   ],
   "source": [
    "a = str('hello')\n",
    "print (a)"
   ]
  },
  {
   "cell_type": "code",
   "execution_count": 29,
   "id": "6cb028fe",
   "metadata": {},
   "outputs": [
    {
     "name": "stdout",
     "output_type": "stream",
     "text": [
      "Hello, my name is Dima\n"
     ]
    }
   ],
   "source": [
    "greetting = ('Hello, my name is Dima')\n",
    "print (greetting)"
   ]
  },
  {
   "cell_type": "code",
   "execution_count": 31,
   "id": "9aaf0a48",
   "metadata": {},
   "outputs": [
    {
     "data": {
      "text/plain": [
       "'H'"
      ]
     },
     "execution_count": 31,
     "metadata": {},
     "output_type": "execute_result"
    }
   ],
   "source": [
    "greetting [0]"
   ]
  },
  {
   "cell_type": "code",
   "execution_count": 32,
   "id": "14decacd",
   "metadata": {},
   "outputs": [
    {
     "data": {
      "text/plain": [
       "'l'"
      ]
     },
     "execution_count": 32,
     "metadata": {},
     "output_type": "execute_result"
    }
   ],
   "source": [
    "greetting [3]"
   ]
  },
  {
   "cell_type": "code",
   "execution_count": 33,
   "id": "ee8007cc",
   "metadata": {},
   "outputs": [
    {
     "data": {
      "text/plain": [
       "'D'"
      ]
     },
     "execution_count": 33,
     "metadata": {},
     "output_type": "execute_result"
    }
   ],
   "source": [
    "greetting [18]"
   ]
  },
  {
   "cell_type": "code",
   "execution_count": 34,
   "id": "9680c835",
   "metadata": {},
   "outputs": [
    {
     "data": {
      "text/plain": [
       "'a'"
      ]
     },
     "execution_count": 34,
     "metadata": {},
     "output_type": "execute_result"
    }
   ],
   "source": [
    "greetting [-1]"
   ]
  },
  {
   "cell_type": "code",
   "execution_count": 35,
   "id": "64b9b146",
   "metadata": {},
   "outputs": [
    {
     "ename": "TypeError",
     "evalue": "'str' object does not support item assignment",
     "output_type": "error",
     "traceback": [
      "\u001b[0;31m---------------------------------------------------------------------------\u001b[0m",
      "\u001b[0;31mTypeError\u001b[0m                                 Traceback (most recent call last)",
      "Cell \u001b[0;32mIn[35], line 1\u001b[0m\n\u001b[0;32m----> 1\u001b[0m greetting [\u001b[38;5;241m18\u001b[39m] \u001b[38;5;241m=\u001b[39m \u001b[38;5;124m'\u001b[39m\u001b[38;5;124mg\u001b[39m\u001b[38;5;124m'\u001b[39m\n",
      "\u001b[0;31mTypeError\u001b[0m: 'str' object does not support item assignment"
     ]
    }
   ],
   "source": [
    "#greetting [18] = 'g'"
   ]
  },
  {
   "cell_type": "code",
   "execution_count": 36,
   "id": "e2f76211",
   "metadata": {},
   "outputs": [
    {
     "data": {
      "text/plain": [
       "'hello'"
      ]
     },
     "execution_count": 36,
     "metadata": {},
     "output_type": "execute_result"
    }
   ],
   "source": [
    "new_greeting = 'hello'\n",
    "new_greeting"
   ]
  },
  {
   "cell_type": "code",
   "execution_count": 37,
   "id": "7cbf4706",
   "metadata": {},
   "outputs": [
    {
     "data": {
      "text/plain": [
       "'Hello, my name is Dima'"
      ]
     },
     "execution_count": 37,
     "metadata": {},
     "output_type": "execute_result"
    }
   ],
   "source": [
    "greetting"
   ]
  },
  {
   "cell_type": "code",
   "execution_count": 38,
   "id": "0ef8f1c4",
   "metadata": {},
   "outputs": [
    {
     "data": {
      "text/plain": [
       "'llo, my name is Dima'"
      ]
     },
     "execution_count": 38,
     "metadata": {},
     "output_type": "execute_result"
    }
   ],
   "source": [
    "greetting [2:]"
   ]
  },
  {
   "cell_type": "code",
   "execution_count": 39,
   "id": "f8c6f4a7",
   "metadata": {},
   "outputs": [
    {
     "data": {
      "text/plain": [
       "'lo, my name is Dima'"
      ]
     },
     "execution_count": 39,
     "metadata": {},
     "output_type": "execute_result"
    }
   ],
   "source": [
    "greetting [3:]"
   ]
  },
  {
   "cell_type": "code",
   "execution_count": 41,
   "id": "783f7823",
   "metadata": {},
   "outputs": [
    {
     "data": {
      "text/plain": [
       "'ello'"
      ]
     },
     "execution_count": 41,
     "metadata": {},
     "output_type": "execute_result"
    }
   ],
   "source": [
    "greetting [1:5]"
   ]
  },
  {
   "cell_type": "code",
   "execution_count": 45,
   "id": "e0c72004",
   "metadata": {},
   "outputs": [
    {
     "data": {
      "text/plain": [
       "'Hlo ynm sDm'"
      ]
     },
     "execution_count": 45,
     "metadata": {},
     "output_type": "execute_result"
    }
   ],
   "source": [
    "greetting [::2]"
   ]
  },
  {
   "cell_type": "code",
   "execution_count": 46,
   "id": "7573158f",
   "metadata": {},
   "outputs": [
    {
     "data": {
      "text/plain": [
       "'l,m aei ia'"
      ]
     },
     "execution_count": 46,
     "metadata": {},
     "output_type": "execute_result"
    }
   ],
   "source": [
    "greetting [3:25:2]"
   ]
  },
  {
   "cell_type": "code",
   "execution_count": 51,
   "id": "e6735b3c",
   "metadata": {},
   "outputs": [
    {
     "data": {
      "text/plain": [
       "'My name is dima'"
      ]
     },
     "execution_count": 51,
     "metadata": {},
     "output_type": "execute_result"
    }
   ],
   "source": [
    "\"My name is\" + \" \" + \"dima\""
   ]
  },
  {
   "cell_type": "code",
   "execution_count": 54,
   "id": "7739966b",
   "metadata": {},
   "outputs": [
    {
     "name": "stdout",
     "output_type": "stream",
     "text": [
      "hello world\n",
      "hello world\n",
      "hello world\n"
     ]
    }
   ],
   "source": [
    "hello = \"hello\"\n",
    "world = \"world\"\n",
    "\n",
    "print (hello + \" \" + world)\n",
    "print (\"%s %s\" % (hello, world))\n",
    "print (\"{} {}\". format (hello, world))"
   ]
  },
  {
   "cell_type": "code",
   "execution_count": 58,
   "id": "acd0bfd4",
   "metadata": {},
   "outputs": [
    {
     "data": {
      "text/plain": [
       "'ddddddd'"
      ]
     },
     "execution_count": 58,
     "metadata": {},
     "output_type": "execute_result"
    }
   ],
   "source": [
    "\"d\"*7\n"
   ]
  },
  {
   "cell_type": "code",
   "execution_count": 59,
   "id": "b8ebd74b",
   "metadata": {},
   "outputs": [
    {
     "data": {
      "text/plain": [
       "'23'"
      ]
     },
     "execution_count": 59,
     "metadata": {},
     "output_type": "execute_result"
    }
   ],
   "source": [
    "\"2\" + \"3\""
   ]
  },
  {
   "cell_type": "code",
   "execution_count": null,
   "id": "1b33b2bd",
   "metadata": {},
   "outputs": [],
   "source": []
  }
 ],
 "metadata": {
  "kernelspec": {
   "display_name": "Python 3 (ipykernel)",
   "language": "python",
   "name": "python3"
  },
  "language_info": {
   "codemirror_mode": {
    "name": "ipython",
    "version": 3
   },
   "file_extension": ".py",
   "mimetype": "text/x-python",
   "name": "python",
   "nbconvert_exporter": "python",
   "pygments_lexer": "ipython3",
   "version": "3.11.5"
  }
 },
 "nbformat": 4,
 "nbformat_minor": 5
}
