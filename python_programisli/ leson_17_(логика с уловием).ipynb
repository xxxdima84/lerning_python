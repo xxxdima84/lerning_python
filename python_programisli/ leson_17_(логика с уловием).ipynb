{
 "cells": [
  {
   "cell_type": "code",
   "execution_count": 1,
   "id": "32092c05",
   "metadata": {},
   "outputs": [
    {
     "name": "stdout",
     "output_type": "stream",
     "text": [
      "Indeed, true\n"
     ]
    }
   ],
   "source": [
    "if True:\n",
    "    print('Indeed, true')"
   ]
  },
  {
   "cell_type": "code",
   "execution_count": 2,
   "id": "231f7567",
   "metadata": {},
   "outputs": [],
   "source": [
    "if False:\n",
    "    print('Indeed, true')"
   ]
  },
  {
   "cell_type": "code",
   "execution_count": 3,
   "id": "f340781a",
   "metadata": {},
   "outputs": [
    {
     "name": "stdout",
     "output_type": "stream",
     "text": [
      "3 is greater than 2\n"
     ]
    }
   ],
   "source": [
    "if 3 > 2:\n",
    "    print('3 is greater than 2')"
   ]
  },
  {
   "cell_type": "code",
   "execution_count": 4,
   "id": "fd263115",
   "metadata": {},
   "outputs": [],
   "source": [
    "# ничего не выведем та как Лож\n",
    "if 3 < 2:\n",
    "    print('3 is greater than 2')"
   ]
  },
  {
   "cell_type": "code",
   "execution_count": 5,
   "id": "4884744a",
   "metadata": {},
   "outputs": [
    {
     "name": "stdout",
     "output_type": "stream",
     "text": [
      "It's look at him!\n"
     ]
    }
   ],
   "source": [
    "is_admin = True\n",
    "if is_admin:\n",
    "    print(\"It's look at him!\")"
   ]
  },
  {
   "cell_type": "code",
   "execution_count": 8,
   "id": "dbc96943",
   "metadata": {},
   "outputs": [
    {
     "name": "stdout",
     "output_type": "stream",
     "text": [
      "cc\n",
      "Hm.... it is new race\n"
     ]
    }
   ],
   "source": [
    "select_character = input()\n",
    "\n",
    "if select_character == 'Protos':\n",
    "    print ('Protos is most powerful race')\n",
    "elif select_character == 'Zerg':\n",
    "    print (\"Zerg is the most wek race but it spreads like a plaque\")\n",
    "elif select_character == 'Terrain':\n",
    "    print ('Terrain is rase balanced')\n",
    "else:\n",
    "    print ('Hm.... it is new race')"
   ]
  },
  {
   "cell_type": "code",
   "execution_count": null,
   "id": "914e7948",
   "metadata": {},
   "outputs": [],
   "source": []
  },
  {
   "cell_type": "code",
   "execution_count": null,
   "id": "56cf4e54",
   "metadata": {},
   "outputs": [],
   "source": []
  }
 ],
 "metadata": {
  "kernelspec": {
   "display_name": "Python 3 (ipykernel)",
   "language": "python",
   "name": "python3"
  },
  "language_info": {
   "codemirror_mode": {
    "name": "ipython",
    "version": 3
   },
   "file_extension": ".py",
   "mimetype": "text/x-python",
   "name": "python",
   "nbconvert_exporter": "python",
   "pygments_lexer": "ipython3",
   "version": "3.11.5"
  }
 },
 "nbformat": 4,
 "nbformat_minor": 5
}
